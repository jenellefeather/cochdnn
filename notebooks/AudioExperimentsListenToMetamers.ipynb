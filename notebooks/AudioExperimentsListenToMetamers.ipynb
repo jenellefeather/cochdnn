{
 "cells": [
  {
   "cell_type": "code",
   "execution_count": 1,
   "metadata": {},
   "outputs": [],
   "source": [
    "from ipywidgets import widgets, interactive\n",
    "import scipy.io.wavfile\n",
    "import matplotlib.pyplot as plt\n",
    "%matplotlib inline\n",
    "import urllib.request, json \n",
    "from model_analysis_folders import all_model_info\n",
    "\n",
    "# Render the plots with latex, and we can't do that will illustrator friendly fonts...\n",
    "# import matplotlib\n",
    "# matplotlib.rcParams['pdf.fonttype'] = 42\n",
    "# matplotlib.rcParams['ps.fonttype'] = 42\n",
    "# plt.rcParams.update({\n",
    "#     \"text.usetex\": True,\n",
    "#     \"font.family\": \"sans-serif\",\n",
    "#     \"font.sans-serif\": [\"Helvetica\"]})\n",
    "\n",
    "\n",
    "from notebook_helpers import display_all_audio_models_for_experiment\n",
    "from notebook_helpers import audio_experiment_dict_by_name"
   ]
  },
  {
   "cell_type": "markdown",
   "metadata": {},
   "source": [
    "# Audio Models\n",
    "\n",
    "Choose an experiment and an example IDX. \n",
    "\n",
    "The the audio file for the example metamer is loaded for each layer and each mdoel included in the experiment.  \n",
    "\n",
    "Example are loaded from the web and may take a few seconds to load. \n",
    "\n",
    "If an example did not pass optimization criteria and was missing from the experiment it will not be displayed (but the path will be printed). For the SpecTemp experiment, only 200 images were used rather than 400, so half of the images will be missing. \n",
    "\n",
    "See `notebook_helpers.py` for the functions used for loading the images. \n",
    "\n",
    "Tips: Jupyter notebooks and widgets are often finicky with audio, especially on different browsers/versions -- if the audio samples are greyed out and will not play inline, try to right click \"copy audio path\" or \"open audio in a new tab\". If audio suddenly is not playing in a notebook it might be due to a limit on the maximum number of audio elements that can be loaded in a given tab (https://stackoverflow.com/questions/68480528/blocked-attempt-to-create-a-webmediaplayer-as-there-are-too-many-webmediaplayers). Try to close the tab and reopen, or open in a different browser, and feel free to reach out if you have a suggested fix for this... "
   ]
  },
  {
   "cell_type": "code",
   "execution_count": 2,
   "metadata": {
    "scrolled": false
   },
   "outputs": [
    {
     "data": {
      "application/vnd.jupyter.widget-view+json": {
       "model_id": "d4078cd196dd41e19beb546943d09e50",
       "version_major": 2,
       "version_minor": 0
      },
      "text/plain": [
       "interactive(children=(Dropdown(description='exp_name', options=('Auditory Experiment 1 (Standard Models, Figur…"
      ]
     },
     "metadata": {},
     "output_type": "display_data"
    },
    {
     "data": {
      "text/plain": [
       "<function notebook_helpers.display_all_audio_models_for_experiment(exp_name, example_idx)>"
      ]
     },
     "execution_count": 2,
     "metadata": {},
     "output_type": "execute_result"
    }
   ],
   "source": [
    "example_idx = range(0,399)\n",
    "widgets.interact(display_all_audio_models_for_experiment, \n",
    "                 exp_name=list(audio_experiment_dict_by_name.keys()),\n",
    "                 example_idx=example_idx, \n",
    "                 )"
   ]
  },
  {
   "cell_type": "code",
   "execution_count": null,
   "metadata": {},
   "outputs": [],
   "source": []
  }
 ],
 "metadata": {
  "kernelspec": {
   "display_name": "Python 3",
   "language": "python",
   "name": "python3"
  },
  "language_info": {
   "codemirror_mode": {
    "name": "ipython",
    "version": 3
   },
   "file_extension": ".py",
   "mimetype": "text/x-python",
   "name": "python",
   "nbconvert_exporter": "python",
   "pygments_lexer": "ipython3",
   "version": "3.8.2"
  }
 },
 "nbformat": 4,
 "nbformat_minor": 4
}
